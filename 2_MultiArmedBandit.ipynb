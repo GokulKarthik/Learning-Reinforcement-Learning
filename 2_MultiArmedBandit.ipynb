{
 "cells": [
  {
   "cell_type": "code",
   "execution_count": 1,
   "metadata": {},
   "outputs": [],
   "source": [
    "import numpy as np\n",
    "import pandas as pd\n",
    "\n",
    "np.random.seed(0)"
   ]
  },
  {
   "cell_type": "markdown",
   "metadata": {},
   "source": [
    "## Multi Armed Bandit"
   ]
  },
  {
   "cell_type": "code",
   "execution_count": 2,
   "metadata": {},
   "outputs": [],
   "source": [
    "class MAB:\n",
    "    \n",
    "    def __init__(self, n_levers=5):\n",
    "        self.n_levers = 5\n",
    "        \n",
    "    def assign_threshold(self, good_levers=[0,1], medium_levers=[2], bad_levers=[3,4]):\n",
    "        \"\"\"\n",
    "        Simple rules:\n",
    "        good levers => 70% of winning\n",
    "        medium levers => 50% of winning\n",
    "        bad levers => 20% of winning\n",
    "        \n",
    "        reward : 0 or 1\n",
    "        \"\"\"\n",
    "        all_levers = good_levers+medium_levers+bad_levers\n",
    "        all_levers = sorted(all_levers)\n",
    "        if all_levers != list(range(self.n_levers)):\n",
    "            raise ValueError(\"Please enter the proper lever numbers...\")\n",
    "       \n",
    "        good_threshold = 0.7\n",
    "        medium_threshold = 0.5\n",
    "        bad_threshold = 0.2\n",
    "        \n",
    "        self.lever_threshold = {}\n",
    "        for lever in good_levers:\n",
    "            self.lever_threshold[lever] = good_threshold\n",
    "        for lever in medium_levers:\n",
    "            self.lever_threshold[lever] = medium_threshold\n",
    "        for lever in bad_levers:\n",
    "            self.lever_threshold[lever] = bad_threshold\n",
    "            \n",
    "    def play(self, lever):\n",
    "        if lever not in range(self.n_levers):\n",
    "            raise ValueError(\"Please select the valid lever number...\")\n",
    "        random_n = np.random.random()\n",
    "        reward = int(self.lever_threshold[lever] >= np.random.random())\n",
    "        return reward"
   ]
  },
  {
   "cell_type": "code",
   "execution_count": 3,
   "metadata": {},
   "outputs": [],
   "source": [
    "mab = MAB(n_levers=5)\n",
    "mab.assign_threshold(good_levers=[0,1], medium_levers=[2], bad_levers=[3,4])"
   ]
  },
  {
   "cell_type": "code",
   "execution_count": 4,
   "metadata": {},
   "outputs": [
    {
     "name": "stdout",
     "output_type": "stream",
     "text": [
      "{0: 0.6650717703349283, 1: 0.6954314720812182, 2: 0.5025906735751295, 3: 0.21226415094339623, 4: 0.19047619047619047}\n"
     ]
    }
   ],
   "source": [
    "# check mab\n",
    "total_rewards = {}\n",
    "count = {}\n",
    "average_rewards = {}\n",
    "for i in range(5):\n",
    "    total_rewards[i] = 0\n",
    "    count[i] = 0\n",
    "    \n",
    "for _ in range(1000):\n",
    "    action = np.random.choice(5)\n",
    "    reward = mab.play(lever=action)\n",
    "    total_rewards[action] += reward\n",
    "    count[action] += 1\n",
    "    \n",
    "for i in range(5):\n",
    "    average_rewards[i] = total_rewards[i] / count[i]\n",
    "    \n",
    "print(average_rewards) "
   ]
  },
  {
   "cell_type": "markdown",
   "metadata": {},
   "source": [
    "## Agent"
   ]
  },
  {
   "cell_type": "code",
   "execution_count": 5,
   "metadata": {},
   "outputs": [],
   "source": [
    "class Agent:\n",
    "    \n",
    "    def __init__(self, mab, init_n=5, epsilon=0.1):\n",
    "        \"\"\"\n",
    "        mab -> Multi armed bandit\n",
    "        init_n -> number of plays for each action for its Q value\n",
    "        Q -> action-value function\n",
    "        N -> number of time action was taken\n",
    "        \"\"\"\n",
    "        self.mab = mab\n",
    "        self.epsilon = epsilon\n",
    "        self.Q = {}\n",
    "        self.N = {}\n",
    "        self.total_reward = 0\n",
    "        self.t = mab.n_levers * init_n # for ucb\n",
    "        self.ucb = {} # for ucb\n",
    "        self.c = 0.1 # for ucb \n",
    "        for i in range(mab.n_levers):\n",
    "            self.N[i] = init_n\n",
    "            self.Q[i] = 0\n",
    "            for _ in range(init_n):\n",
    "                reward = mab.play(lever=i)\n",
    "                self.Q[i] += reward\n",
    "                self.total_reward += reward\n",
    "            self.Q[i] /= init_n\n",
    "            self.ucb[i] = self.Q[i] + self.c * np.sqrt(np.log(self.t)/self.N[i])\n",
    "            \n",
    "    def get_random_action(self):\n",
    "        return np.random.choice(self.mab.n_levers)\n",
    "    \n",
    "    def get_greedy_action(self):\n",
    "        return max(self.Q, key = lambda action : self.Q[action])\n",
    "    \n",
    "    def select_action_by_epsilon_greedy(self):\n",
    "        random_n = np.random.random()\n",
    "        if random_n < self.epsilon:\n",
    "            action = self.get_random_action()\n",
    "        else:\n",
    "            action = self.get_greedy_action()\n",
    "        self.N[action] += 1\n",
    "        return action\n",
    "    \n",
    "    def select_action_by_upper_confidence_bound(self):\n",
    "        \n",
    "        action = max(self.ucb, key = lambda action : self.ucb[action])\n",
    "        self.t += 1\n",
    "        self.N[action] += 1\n",
    "        return action\n",
    "    \n",
    "    def train(self, t=1000, method=\"epsilon_greedy\"):\n",
    "        for _ in range(t):\n",
    "            if method == \"epsilon_greedy\":\n",
    "                action = self.select_action_by_epsilon_greedy()\n",
    "            elif method == \"ucb\":\n",
    "                action = self.select_action_by_upper_confidence_bound()\n",
    "            else:\n",
    "                raise ValueError(\"Please select the valid action method\")\n",
    "            reward = mab.play(lever=action)\n",
    "            alpha = 1 / self.N[action]\n",
    "            self.Q[action] += alpha * (reward - self.Q[action])\n",
    "            if method == \"ucb\":\n",
    "                self.ucb[action] = self.Q[action] + self.c * np.sqrt(np.log(self.t)/self.N[i])\n",
    "            self.total_reward += reward\n",
    "        return self.total_reward"
   ]
  },
  {
   "cell_type": "markdown",
   "metadata": {},
   "source": [
    "## UCB"
   ]
  },
  {
   "cell_type": "code",
   "execution_count": 6,
   "metadata": {},
   "outputs": [
    {
     "name": "stdout",
     "output_type": "stream",
     "text": [
      "7000679\n",
      "{0: 0.7000669599865862, 1: 0.5, 2: 0.2, 3: 0.2, 4: 0.4}\n"
     ]
    }
   ],
   "source": [
    "agent = Agent(mab, init_n=5, epsilon=0)\n",
    "total_reward = agent.train(t=10**7, method=\"ucb\")\n",
    "print(total_reward)\n",
    "print(agent.Q)"
   ]
  },
  {
   "cell_type": "markdown",
   "metadata": {},
   "source": [
    "## Epsilon Greedy"
   ]
  },
  {
   "cell_type": "code",
   "execution_count": 8,
   "metadata": {},
   "outputs": [
    {
     "name": "stdout",
     "output_type": "stream",
     "text": [
      "700525\n",
      "{0: 0.7005142994856899, 1: 0.4, 2: 0.5555555555555556, 3: 0.2, 4: 0.4}\n"
     ]
    }
   ],
   "source": [
    "agent = Agent(mab, init_n=5, epsilon=0)\n",
    "total_reward = agent.train(t=10**6)\n",
    "print(total_reward)\n",
    "print(agent.Q)"
   ]
  },
  {
   "cell_type": "code",
   "execution_count": 7,
   "metadata": {},
   "outputs": [
    {
     "name": "stdout",
     "output_type": "stream",
     "text": [
      "701088\n",
      "{0: 0.7012986493086394, 1: 0.6619047619047616, 2: 0.5323383084577115, 3: 0.2918660287081338, 4: 0.23004694835680756}\n"
     ]
    }
   ],
   "source": [
    "agent = Agent(mab, init_n=5, epsilon=0.001)\n",
    "total_reward = agent.train(t=10**6)\n",
    "print(total_reward)\n",
    "print(agent.Q)"
   ]
  },
  {
   "cell_type": "code",
   "execution_count": 9,
   "metadata": {},
   "outputs": [
    {
     "name": "stdout",
     "output_type": "stream",
     "text": [
      "696410\n",
      "{0: 0.6988195298722967, 1: 0.691694523013628, 2: 0.5037821482602125, 3: 0.19290354822588707, 4: 0.20804710500490642}\n"
     ]
    }
   ],
   "source": [
    "agent = Agent(mab, init_n=5, epsilon=0.01)\n",
    "total_reward = agent.train(t=10**6)\n",
    "print(total_reward)\n",
    "print(agent.Q)"
   ]
  },
  {
   "cell_type": "code",
   "execution_count": 10,
   "metadata": {},
   "outputs": [
    {
     "name": "stdout",
     "output_type": "stream",
     "text": [
      "639195\n",
      "{0: 0.6947121175620358, 1: 0.6994309699744669, 2: 0.49591873752947585, 3: 0.19952014395681264, 4: 0.20203209837112562}\n"
     ]
    }
   ],
   "source": [
    "agent = Agent(mab, init_n=5, epsilon=0.25)\n",
    "total_reward = agent.train(t=10**6)\n",
    "print(total_reward)\n",
    "print(agent.Q)"
   ]
  }
 ],
 "metadata": {
  "kernelspec": {
   "display_name": "Python 3",
   "language": "python",
   "name": "python3"
  },
  "language_info": {
   "codemirror_mode": {
    "name": "ipython",
    "version": 3
   },
   "file_extension": ".py",
   "mimetype": "text/x-python",
   "name": "python",
   "nbconvert_exporter": "python",
   "pygments_lexer": "ipython3",
   "version": "3.7.1"
  }
 },
 "nbformat": 4,
 "nbformat_minor": 2
}

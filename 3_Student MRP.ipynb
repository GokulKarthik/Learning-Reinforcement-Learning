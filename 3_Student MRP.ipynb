{
 "cells": [
  {
   "cell_type": "code",
   "execution_count": 2,
   "metadata": {},
   "outputs": [],
   "source": [
    "import numpy as np\n",
    "import pandas as pd\n",
    "import networkx as nx\n",
    "import matplotlib.pyplot as plt\n",
    "\n",
    "np.random.seed(0)"
   ]
  },
  {
   "cell_type": "code",
   "execution_count": 3,
   "metadata": {},
   "outputs": [],
   "source": [
    "class StudentMRP:\n",
    "    \n",
    "    def __init__(self):\n",
    "        self.S = [\"class_1\", \"class_2\", \"class_3\", \"pub\", \"facebook\", \"pass\", \"sleep\"]\n",
    "        self.P = [[.0, .5, .0, .0, .5, .0, .0],\n",
    "                  [.0, .0, .8, .0, .0, .0, .2],\n",
    "                  [.0, .0, .0, .4, .0, .6, .0],\n",
    "                  [.2, .4, .4, .0, .0, .0, .0],\n",
    "                  [.1, .0, .0, .9, .0, .0, .0],\n",
    "                  [.0, .0, .0, .0, .0, .0, 1.0],\n",
    "                  [.0, .0, .0, .0, .0, .0, 1.0],\n",
    "                 ]\n",
    "        self.P = pd.DataFrame(self.P, index=self.S, columns=self.S)\n",
    "        self.init_state = \"class_1\"\n",
    "        self.terminal_state = \"sleep\"\n",
    "        self.R = pd.Series([-2, -2, -2, 1, -1, 10, 0], index=self.S)\n",
    "        #self.lambda_ = 0.1\n",
    "        self.G = nx.from_pandas_adjacency(self.P, create_using=nx.DiGraph)\n",
    "        \n",
    "    def __str__(self):\n",
    "        nx.draw(self.G, with_labels=True, node_size=3000)\n",
    "        plt.show()\n",
    "        return \"\"\n",
    "    \n",
    "    def generate_epsiodes(self, n=1000):\n",
    "        episodes = []\n",
    "        for _ in range(n):\n",
    "            episode = [self.init_state]\n",
    "            while self.terminal_state not in episode:\n",
    "                current_state = episode[-1]\n",
    "                next_state = np.random.choice(self.S, p=self.P.loc[current_state,:].values)\n",
    "                episode.append(next_state)\n",
    "            episodes.append(episode)\n",
    "        return episodes"
   ]
  },
  {
   "cell_type": "code",
   "execution_count": 4,
   "metadata": {},
   "outputs": [
    {
     "data": {
      "image/png": "[encoded data removed]",
      "text/plain": [
       "<Figure size 432x288 with 1 Axes>"
      ]
     },
     "metadata": {},
     "output_type": "display_data"
    },
    {
     "name": "stdout",
     "output_type": "stream",
     "text": [
      "\n"
     ]
    }
   ],
   "source": [
    "student_mrp = StudentMRP()\n",
    "print(student_mrp)"
   ]
  },
  {
   "cell_type": "code",
   "execution_count": 5,
   "metadata": {},
   "outputs": [
    {
     "data": {
      "text/plain": [
       "[['class_1', 'class_2', 'class_3', 'pub', 'class_3', 'pass', 'sleep'],\n",
       " ['class_1',\n",
       "  'facebook',\n",
       "  'pub',\n",
       "  'class_2',\n",
       "  'class_3',\n",
       "  'pub',\n",
       "  'class_3',\n",
       "  'pub',\n",
       "  'class_3',\n",
       "  'pass',\n",
       "  'sleep'],\n",
       " ['class_1', 'class_2', 'class_3', 'pass', 'sleep']]"
      ]
     },
     "execution_count": 5,
     "metadata": {},
     "output_type": "execute_result"
    }
   ],
   "source": [
    "# check episode generation\n",
    "student_mrp.generate_epsiodes(3)"
   ]
  },
  {
   "cell_type": "code",
   "execution_count": 6,
   "metadata": {},
   "outputs": [
    {
     "data": {
      "text/plain": [
       "NodeView(('class_1', 'class_2', 'class_3', 'pub', 'facebook', 'pass', 'sleep'))"
      ]
     },
     "execution_count": 6,
     "metadata": {},
     "output_type": "execute_result"
    }
   ],
   "source": [
    "student_mrp.G.nodes()"
   ]
  },
  {
   "cell_type": "code",
   "execution_count": 7,
   "metadata": {},
   "outputs": [
    {
     "data": {
      "text/plain": [
       "OutEdgeView([('class_1', 'class_2'), ('class_1', 'facebook'), ('class_2', 'class_3'), ('class_2', 'sleep'), ('class_3', 'pub'), ('class_3', 'pass'), ('pub', 'class_1'), ('pub', 'class_2'), ('pub', 'class_3'), ('facebook', 'class_1'), ('facebook', 'pub'), ('pass', 'sleep'), ('sleep', 'sleep')])"
      ]
     },
     "execution_count": 7,
     "metadata": {},
     "output_type": "execute_result"
    }
   ],
   "source": [
    "student_mrp.G.edges()"
   ]
  },
  {
   "cell_type": "code",
   "execution_count": 14,
   "metadata": {},
   "outputs": [],
   "source": [
    "class LA_Agent:\n",
    "        \n",
    "    def __init__(self, mrp):\n",
    "        self.mrp = mrp\n",
    "        self.lambda_ = 0\n",
    "        self.V = None\n",
    "    \n",
    "    def find_state_values(self):\n",
    "        x = np.identity(len(self.mrp.S)) - self.lambda_*(self.mrp.P.values)\n",
    "        try:\n",
    "            x = np.linalg.inv(x)\n",
    "        except:\n",
    "            print(\"LA Agent failed :( \\nTry iterative methods...\")\n",
    "            return None\n",
    "        self.V = np.matmul(x, self.mrp.R.values.reshape(-1, 1)).flatten()\n",
    "        self.V = pd.Series(self.V, index=self.mrp.S)\n",
    "        return self.V"
   ]
  },
  {
   "cell_type": "code",
   "execution_count": 15,
   "metadata": {},
   "outputs": [
    {
     "name": "stdout",
     "output_type": "stream",
     "text": [
      "class_1     -2.0\n",
      "class_2     -2.0\n",
      "class_3     -2.0\n",
      "pub          1.0\n",
      "facebook    -1.0\n",
      "pass        10.0\n",
      "sleep        0.0\n",
      "dtype: float64\n"
     ]
    }
   ],
   "source": [
    "la_agent = LA_Agent(mrp=student_mrp)\n",
    "print(la_agent.find_state_values())"
   ]
  },
  {
   "cell_type": "code",
   "execution_count": null,
   "metadata": {},
   "outputs": [],
   "source": [
    "class Sampler_Agent:\n",
    "    \n",
    "    def __init__(self):\n",
    "        "
   ]
  }
 ],
 "metadata": {
  "kernelspec": {
   "display_name": "Python 3",
   "language": "python",
   "name": "python3"
  },
  "language_info": {
   "codemirror_mode": {
    "name": "ipython",
    "version": 3
   },
   "file_extension": ".py",
   "mimetype": "text/x-python",
   "name": "python",
   "nbconvert_exporter": "python",
   "pygments_lexer": "ipython3",
   "version": "3.7.1"
  }
 },
 "nbformat": 4,
 "nbformat_minor": 2
}
